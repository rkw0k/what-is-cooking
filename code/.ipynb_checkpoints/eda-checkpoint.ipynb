{
 "metadata": {
  "name": "",
  "signature": "sha256:25968d68e08052e43cb9a53a52fd2de72e48448aa1495e40580c1ac1cb9564d7"
 },
 "nbformat": 3,
 "nbformat_minor": 0,
 "worksheets": [
  {
   "cells": [
    {
     "cell_type": "code",
     "collapsed": false,
     "input": [
      "import numpy as np\n",
      "import matplotlib.pyplot as plt\n",
      "import pandas as pd\n",
      "from collections import Counter\n",
      "%matplotlib inline\n",
      "filename = \"../data/train.json\"\n",
      "df = pd.read_json(filename)\n",
      "df.head()"
     ],
     "language": "python",
     "metadata": {},
     "outputs": [
      {
       "html": [
        "<div style=\"max-height:1000px;max-width:1500px;overflow:auto;\">\n",
        "<table border=\"1\" class=\"dataframe\">\n",
        "  <thead>\n",
        "    <tr style=\"text-align: right;\">\n",
        "      <th></th>\n",
        "      <th>cuisine</th>\n",
        "      <th>id</th>\n",
        "      <th>ingredients</th>\n",
        "    </tr>\n",
        "  </thead>\n",
        "  <tbody>\n",
        "    <tr>\n",
        "      <th>0</th>\n",
        "      <td>       greek</td>\n",
        "      <td> 10259</td>\n",
        "      <td> [romaine lettuce, black olives, grape tomatoes...</td>\n",
        "    </tr>\n",
        "    <tr>\n",
        "      <th>1</th>\n",
        "      <td> southern_us</td>\n",
        "      <td> 25693</td>\n",
        "      <td> [plain flour, ground pepper, salt, tomatoes, g...</td>\n",
        "    </tr>\n",
        "    <tr>\n",
        "      <th>2</th>\n",
        "      <td>    filipino</td>\n",
        "      <td> 20130</td>\n",
        "      <td> [eggs, pepper, salt, mayonaise, cooking oil, g...</td>\n",
        "    </tr>\n",
        "    <tr>\n",
        "      <th>3</th>\n",
        "      <td>      indian</td>\n",
        "      <td> 22213</td>\n",
        "      <td>               [water, vegetable oil, wheat, salt]</td>\n",
        "    </tr>\n",
        "    <tr>\n",
        "      <th>4</th>\n",
        "      <td>      indian</td>\n",
        "      <td> 13162</td>\n",
        "      <td> [black pepper, shallots, cornflour, cayenne pe...</td>\n",
        "    </tr>\n",
        "  </tbody>\n",
        "</table>\n",
        "</div>"
       ],
       "metadata": {},
       "output_type": "pyout",
       "prompt_number": 10,
       "text": [
        "       cuisine     id                                        ingredients\n",
        "0        greek  10259  [romaine lettuce, black olives, grape tomatoes...\n",
        "1  southern_us  25693  [plain flour, ground pepper, salt, tomatoes, g...\n",
        "2     filipino  20130  [eggs, pepper, salt, mayonaise, cooking oil, g...\n",
        "3       indian  22213                [water, vegetable oil, wheat, salt]\n",
        "4       indian  13162  [black pepper, shallots, cornflour, cayenne pe..."
       ]
      }
     ],
     "prompt_number": 10
    },
    {
     "cell_type": "code",
     "collapsed": false,
     "input": [
      "cuisine_count = Counter()\n",
      "cuisine_list = df[\"cuisine\"]\n",
      "for cuisine in cuisine_list:\n",
      "    cuisine_count[str(cuisine)] += 1\n",
      "\n",
      "cuisine_count_sorted = sorted(cuisine_count.items(), key=lambda kv: kv[1])"
     ],
     "language": "python",
     "metadata": {},
     "outputs": [],
     "prompt_number": 55
    },
    {
     "cell_type": "code",
     "collapsed": false,
     "input": [
      "cuisine_count = Counter()\n",
      "cuisine_list = df[\"cuisine\"]\n",
      "for cuisine in cuisine_list:\n",
      "    cuisine_count[str(cuisine)] += 1\n",
      "cuisine_count_sorted = sorted(cuisine_count.items(), key=lambda kv: kv[1])\n",
      "names, values = [], []\n",
      "for cuis, cnt in cuisine_count_sorted:\n",
      "    names.append(cuis)\n",
      "    values.append(cnt)\n",
      "\n",
      "def plot_bar_x(xdata, ydata):\n",
      "    index = np.arange(len(xdata))\n",
      "    fig, ax = plt.subplots()\n",
      "\n",
      "    width = index[1] - index[0]\n",
      "    ax.set_ylabel('Count')\n",
      "    ax.set_xlabel('Cuisine')\n",
      "    ax.set_title('Distribution of cuisines in training set')\n",
      "    ax.set_xticks(index + width * .5 )\n",
      "    ax.set_xticklabels(names, rotation=90)\n",
      "    ax.bar(index, ydata)\n",
      "# plot_bar_x(names, values)"
     ],
     "language": "python",
     "metadata": {},
     "outputs": [],
     "prompt_number": 86
    },
    {
     "cell_type": "code",
     "collapsed": false,
     "input": [
      "ingredients = df[\"ingredients\"]\n",
      "all_words = Counter()\n",
      "for ing in ingredients:\n",
      "    for i in ing:\n",
      "        all_words[i] += 1\n",
      "# all_words"
     ],
     "language": "python",
     "metadata": {},
     "outputs": [],
     "prompt_number": 93
    },
    {
     "cell_type": "code",
     "collapsed": false,
     "input": [
      "all_words_sorted = sorted(all_words.items(), key=lambda kv: -kv[1])\n",
      "ingred, ingred_count = [], []\n",
      "for i, cnt in all_words_sorted:\n",
      "    ingred.append(i)\n",
      "    ingred_count.append(cnt)"
     ],
     "language": "python",
     "metadata": {},
     "outputs": [],
     "prompt_number": 105
    },
    {
     "cell_type": "code",
     "collapsed": false,
     "input": [
      "# TODO: NLP on the ingredients as words and recipe as documents with the cuisines as 20 labels\n",
      "# TODO: parse ingredients, strip words, "
     ],
     "language": "python",
     "metadata": {},
     "outputs": []
    }
   ],
   "metadata": {}
  }
 ]
}